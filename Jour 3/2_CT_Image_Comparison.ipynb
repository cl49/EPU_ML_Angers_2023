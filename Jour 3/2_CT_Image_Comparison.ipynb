{
  "cells": [
    {
      "cell_type": "markdown",
      "metadata": {
        "id": "view-in-github",
        "colab_type": "text"
      },
      "source": [
        "<a href=\"https://colab.research.google.com/github/cl49/EPU_ML_Angers_2023/blob/main/Jour%203/2_CT_Image_Comparison.ipynb\" target=\"_parent\"><img src=\"https://colab.research.google.com/assets/colab-badge.svg\" alt=\"Open In Colab\"/></a>"
      ]
    },
    {
      "cell_type": "markdown",
      "id": "d79bc114",
      "metadata": {
        "id": "d79bc114"
      },
      "source": [
        "## CT Image Comparison Using PSNR and SSIM\n",
        "\n",
        "This notebook provides a Python script to compare two CT images - one real and one synthetic - using the PSNR (Peak Signal-to-Noise Ratio) and SSIM (Structural Similarity Index Measure) metrics. The images are expected to be in the NIfTI format (.nii).\n",
        "\n",
        "First, we need to import the necessary libraries."
      ]
    },
    {
      "cell_type": "markdown",
      "id": "42ae7140",
      "metadata": {
        "id": "42ae7140"
      },
      "source": [
        "The `read_nifti_file` function reads a NIfTI file and converts it into a 2D numpy array. NIfTI files can be 3D or 4D; this function takes the first slice for simplicity."
      ]
    },
    {
      "cell_type": "markdown",
      "id": "0e9718ba",
      "metadata": {
        "id": "0e9718ba"
      },
      "source": [
        "The `calculate_psnr` function computes the Peak Signal-to-Noise Ratio (PSNR) between two images, which is a measure of the reconstruction quality compared to the original image."
      ]
    },
    {
      "cell_type": "markdown",
      "id": "b2b94e35",
      "metadata": {
        "id": "b2b94e35"
      },
      "source": [
        "The `calculate_ssim` function calculates the Structural Similarity Index Measure (SSIM) between two images, a metric used to measure the similarity between two images."
      ]
    },
    {
      "cell_type": "markdown",
      "id": "3f48cf5d",
      "metadata": {
        "id": "3f48cf5d"
      },
      "source": [
        "Below is the example usage of the functions. You need to replace `'path/to/real_ct.nii'` and `'path/to/synthetic_ct.nii'` with the actual paths to your NIfTI files. Make sure to have `nibabel`, `opencv-python`, and `scikit-image` installed in your Python environment."
      ]
    },
    {
      "cell_type": "code",
      "source": [
        "from google.colab import drive\n",
        "drive.mount('/content/drive')"
      ],
      "metadata": {
        "colab": {
          "base_uri": "https://localhost:8080/"
        },
        "id": "QZuNMtNbzNdR",
        "outputId": "2694a0ed-7e84-47c0-a75e-801b344fd253"
      },
      "id": "QZuNMtNbzNdR",
      "execution_count": 1,
      "outputs": [
        {
          "output_type": "stream",
          "name": "stdout",
          "text": [
            "Mounted at /content/drive\n"
          ]
        }
      ]
    },
    {
      "cell_type": "code",
      "execution_count": 2,
      "id": "36b59694",
      "metadata": {
        "id": "36b59694"
      },
      "outputs": [],
      "source": [
        "import cv2\n",
        "import numpy as np\n",
        "from skimage.metrics import structural_similarity as ssim\n",
        "import nibabel as nib"
      ]
    },
    {
      "cell_type": "code",
      "execution_count": 10,
      "id": "2f24dfda",
      "metadata": {
        "id": "2f24dfda"
      },
      "outputs": [],
      "source": [
        "def read_nifti_file(filepath):\n",
        "    nifti_data = nib.load(filepath)\n",
        "    image = nifti_data.get_fdata()\n",
        "    if len(image.shape) == 4:\n",
        "        image = image[:, :, 0, 0]\n",
        "    return image"
      ]
    },
    {
      "cell_type": "code",
      "source": [
        "# Example usage\n",
        "real_image = read_nifti_file('/content/drive/MyDrive/Formation_ICO/Jour3/image.nii.gz')\n",
        "synthetic_image = read_nifti_file('/content/drive/MyDrive/Formation_ICO/Jour3/sCT_GA1.nii.gz')"
      ],
      "metadata": {
        "id": "-K62wTRcy4eg"
      },
      "id": "-K62wTRcy4eg",
      "execution_count": 11,
      "outputs": []
    },
    {
      "cell_type": "code",
      "source": [
        "real_image.shape"
      ],
      "metadata": {
        "colab": {
          "base_uri": "https://localhost:8080/"
        },
        "id": "zcjQR3Yy0Ml5",
        "outputId": "21f59b02-fdae-4e72-cc68-8545aa03a479"
      },
      "id": "zcjQR3Yy0Ml5",
      "execution_count": 12,
      "outputs": [
        {
          "output_type": "execute_result",
          "data": {
            "text/plain": [
              "(256, 256, 128)"
            ]
          },
          "metadata": {},
          "execution_count": 12
        }
      ]
    },
    {
      "cell_type": "code",
      "source": [
        "import numpy as np\n",
        "import matplotlib.pyplot as plt\n",
        "import ipywidgets as widgets\n",
        "from IPython.display import display\n",
        "\n",
        "def visualize_interactive_ct(image):\n",
        "    \"\"\"\n",
        "    Visualizes a 3D CT image with an interactive slider to navigate through slices.\n",
        "\n",
        "    Parameters:\n",
        "    image (numpy.ndarray): The 3D image to visualize.\n",
        "    \"\"\"\n",
        "\n",
        "    # Define a function to update the plot with the selected slice\n",
        "    def update_slice(slice_index):\n",
        "        rotated_slice = np.rot90(image[:, :, slice_index],k=3)\n",
        "        plt.imshow(rotated_slice, cmap='gray')\n",
        "        plt.title(f'Slice {slice_index}')\n",
        "        plt.axis('off')\n",
        "        plt.show()\n",
        "\n",
        "    # Create an interactive slider\n",
        "    slice_slider = widgets.IntSlider(\n",
        "        value=0,\n",
        "        min=0,\n",
        "        max=image.shape[2] - 1,\n",
        "        step=1,\n",
        "        description='Slice:',\n",
        "        continuous_update=False\n",
        "    )\n",
        "\n",
        "    # Create an interactive widget using the slider\n",
        "    widgets.interact(update_slice, slice_index=slice_slider)\n"
      ],
      "metadata": {
        "id": "fWTwGIdxyfZo"
      },
      "id": "fWTwGIdxyfZo",
      "execution_count": 32,
      "outputs": []
    },
    {
      "cell_type": "code",
      "source": [
        "visualize_interactive_ct(real_image)\n",
        "visualize_interactive_ct(synthetic_image)"
      ],
      "metadata": {
        "colab": {
          "base_uri": "https://localhost:8080/",
          "height": 904,
          "referenced_widgets": [
            "14f0674338f54b0ea9cb8465b487d808",
            "8030dcb46cd74495b10a3b5350ff26d6",
            "fc48f4ed77e74035b9d7e92d72cc2e8c",
            "f8d5fe06913d49399309ec1415f58c17",
            "09091cd832a34cc295fa8b8fb9fc66c3",
            "9ebab2c98fcf4372b8fb54015ef61049",
            "6aaa4e978afc4cdcbd314145b459d0c2",
            "b7af4e5a67fa447984886337dce055f7",
            "32fd2afd689343eb8771bc0b4a275200",
            "328a558cb96843369120647998143920",
            "127ea2921da8439b9d9e678186eafaf7",
            "e3be2783ea024500886e5048e3d86da5",
            "df372ff1b52346faa15706714a504557",
            "5ef2ea76495346da8c568208179dca3c"
          ]
        },
        "id": "XCDJNDeRzG-p",
        "outputId": "21762198-9e63-439e-9686-1e8e978f63e8"
      },
      "id": "XCDJNDeRzG-p",
      "execution_count": 33,
      "outputs": [
        {
          "output_type": "display_data",
          "data": {
            "text/plain": [
              "interactive(children=(IntSlider(value=0, continuous_update=False, description='Slice:', max=127), Output()), _…"
            ],
            "application/vnd.jupyter.widget-view+json": {
              "version_major": 2,
              "version_minor": 0,
              "model_id": "14f0674338f54b0ea9cb8465b487d808"
            }
          },
          "metadata": {}
        },
        {
          "output_type": "display_data",
          "data": {
            "text/plain": [
              "interactive(children=(IntSlider(value=0, continuous_update=False, description='Slice:', max=127), Output()), _…"
            ],
            "application/vnd.jupyter.widget-view+json": {
              "version_major": 2,
              "version_minor": 0,
              "model_id": "b7af4e5a67fa447984886337dce055f7"
            }
          },
          "metadata": {}
        }
      ]
    },
    {
      "cell_type": "code",
      "execution_count": 16,
      "id": "f624caa0",
      "metadata": {
        "id": "f624caa0"
      },
      "outputs": [],
      "source": [
        "def calculate_psnr(image1, image2):\n",
        "    return cv2.PSNR(image1, image2)"
      ]
    },
    {
      "cell_type": "code",
      "execution_count": 17,
      "id": "c5801221",
      "metadata": {
        "id": "c5801221"
      },
      "outputs": [],
      "source": [
        "def calculate_ssim(image1, image2):\n",
        "    return ssim(image1, image2, data_range=image2.max() - image2.min())"
      ]
    },
    {
      "cell_type": "code",
      "execution_count": 18,
      "id": "d06a435d",
      "metadata": {
        "colab": {
          "base_uri": "https://localhost:8080/"
        },
        "id": "d06a435d",
        "outputId": "0702b93b-122f-404a-af47-0d7e20e1ab33"
      },
      "outputs": [
        {
          "output_type": "stream",
          "name": "stdout",
          "text": [
            "PSNR: 19.480288058432144\n",
            "SSIM: 0.8507500348461902\n"
          ]
        }
      ],
      "source": [
        "real_image = cv2.normalize(real_image, None, alpha=0, beta=255, norm_type=cv2.NORM_MINMAX, dtype=cv2.CV_32F)\n",
        "synthetic_image = cv2.normalize(synthetic_image, None, alpha=0, beta=255, norm_type=cv2.NORM_MINMAX, dtype=cv2.CV_32F)\n",
        "\n",
        "psnr_value = calculate_psnr(real_image, synthetic_image)\n",
        "ssim_value = calculate_ssim(real_image, synthetic_image)\n",
        "\n",
        "print(f\"PSNR: {psnr_value}\")\n",
        "print(f\"SSIM: {ssim_value}\")"
      ]
    },
    {
      "cell_type": "markdown",
      "id": "3ad6828a",
      "metadata": {
        "id": "3ad6828a"
      },
      "source": [
        "The `calculate_mse` function computes the Mean Squared Error (MSE) between two images. MSE is a measure of the average squared difference between corresponding pixels in two images. A lower MSE indicates higher similarity."
      ]
    },
    {
      "cell_type": "code",
      "execution_count": 19,
      "id": "b42312cd",
      "metadata": {
        "colab": {
          "base_uri": "https://localhost:8080/"
        },
        "id": "b42312cd",
        "outputId": "71857de4-6e6b-4a4b-d35d-e2f1c5ea356e"
      },
      "outputs": [
        {
          "output_type": "stream",
          "name": "stdout",
          "text": [
            "mse: 93812.67606776125\n"
          ]
        }
      ],
      "source": [
        "def calculate_mse(image1, image2):\n",
        "    err = np.sum((image1.astype(\"float\") - image2.astype(\"float\")) ** 2)\n",
        "    err /= float(image1.shape[0] * image1.shape[1])\n",
        "    return err\n",
        "\n",
        "mse_value = calculate_mse(real_image, synthetic_image)\n",
        "\n",
        "print(f\"mse: {mse_value}\")\n"
      ]
    },
    {
      "cell_type": "markdown",
      "id": "ccad09f3",
      "metadata": {
        "id": "ccad09f3"
      },
      "source": [
        "The `calculate_rmse` function calculates the Root Mean Squared Error (RMSE) between two images. RMSE is the square root of the MSE and provides a measure of the magnitude of error between the images."
      ]
    },
    {
      "cell_type": "code",
      "execution_count": 20,
      "id": "60267071",
      "metadata": {
        "colab": {
          "base_uri": "https://localhost:8080/"
        },
        "id": "60267071",
        "outputId": "f268cc3e-bd66-4c07-b765-23684a302215"
      },
      "outputs": [
        {
          "output_type": "stream",
          "name": "stdout",
          "text": [
            "rmse: 306.2885503373596\n"
          ]
        }
      ],
      "source": [
        "def calculate_rmse(image1, image2):\n",
        "    mse = calculate_mse(image1, image2)\n",
        "    return np.sqrt(mse)\n",
        "\n",
        "rmse_value = calculate_rmse(real_image, synthetic_image)\n",
        "\n",
        "print(f\"rmse: {rmse_value}\")"
      ]
    },
    {
      "cell_type": "markdown",
      "id": "f9b78577",
      "metadata": {
        "id": "f9b78577"
      },
      "source": [
        "The `calculate_mae` function calculates the Mean Absolute Error (MAE) between two images. MAE measures the average magnitude of errors between two images, without considering their direction."
      ]
    },
    {
      "cell_type": "code",
      "execution_count": 21,
      "id": "98e09560",
      "metadata": {
        "colab": {
          "base_uri": "https://localhost:8080/"
        },
        "id": "98e09560",
        "outputId": "372c55ce-40c4-45f7-ac5c-4ed47230e65f"
      },
      "outputs": [
        {
          "output_type": "stream",
          "name": "stdout",
          "text": [
            "mae: 2734.410607811231\n"
          ]
        }
      ],
      "source": [
        "def calculate_mae(image1, image2):\n",
        "    err = np.sum(abs(image1.astype(\"float\") - image2.astype(\"float\")))\n",
        "    err /= float(image1.shape[0] * image1.shape[1])\n",
        "    return err\n",
        "\n",
        "mae_value = calculate_mae(real_image, synthetic_image)\n",
        "\n",
        "print(f\"mae: {mae_value}\")"
      ]
    },
    {
      "cell_type": "markdown",
      "id": "d0fd02d9",
      "metadata": {
        "id": "d0fd02d9"
      },
      "source": [
        "The `calculate_pearson` function computes the Pearson Correlation Coefficient between two images. This coefficient measures the linear correlation between the images, with 1 indicating total positive linear correlation and -1 indicating total negative linear correlation."
      ]
    },
    {
      "cell_type": "code",
      "execution_count": 22,
      "id": "e23d8677",
      "metadata": {
        "colab": {
          "base_uri": "https://localhost:8080/"
        },
        "id": "e23d8677",
        "outputId": "955d49c9-43ab-4779-91b6-b2d7947dbfbb"
      },
      "outputs": [
        {
          "output_type": "stream",
          "name": "stdout",
          "text": [
            "pearson: 0.9681007309561759\n"
          ]
        }
      ],
      "source": [
        "from scipy.stats import pearsonr\n",
        "def calculate_pearson(image1, image2):\n",
        "    corr, _ = pearsonr(image1.flatten(), image2.flatten())\n",
        "    return corr\n",
        "\n",
        "pearson_value = calculate_pearson(real_image, synthetic_image)\n",
        "\n",
        "print(f\"pearson: {pearson_value}\")"
      ]
    },
    {
      "cell_type": "markdown",
      "id": "48bf20ac",
      "metadata": {
        "id": "48bf20ac"
      },
      "source": [
        "The `calculate_mutual_information` function calculates Mutual Information for two images. Mutual Information measures the amount of information that one image contains about the other, making it useful for assessing the similarity of images."
      ]
    },
    {
      "cell_type": "code",
      "execution_count": 23,
      "id": "f2e20c62",
      "metadata": {
        "colab": {
          "base_uri": "https://localhost:8080/"
        },
        "id": "f2e20c62",
        "outputId": "80be2149-c6d0-4382-b081-593c452f5ac1"
      },
      "outputs": [
        {
          "output_type": "stream",
          "name": "stdout",
          "text": [
            "mutual information: 1.1984290834602813\n"
          ]
        }
      ],
      "source": [
        "from sklearn.metrics import mutual_info_score\n",
        "def calculate_mutual_information(image1, image2):\n",
        "    return mutual_info_score(None, None, contingency=np.histogram2d(image1.flatten(), image2.flatten(), bins=20)[0])\n",
        "\n",
        "mutual_value = calculate_mutual_information(real_image, synthetic_image)\n",
        "\n",
        "print(f\"mutual information: {mutual_value}\")\n"
      ]
    }
  ],
  "metadata": {
    "colab": {
      "provenance": [],
      "include_colab_link": true
    },
    "language_info": {
      "name": "python"
    },
    "kernelspec": {
      "name": "python3",
      "display_name": "Python 3"
    },
    "widgets": {
      "application/vnd.jupyter.widget-state+json": {
        "14f0674338f54b0ea9cb8465b487d808": {
          "model_module": "@jupyter-widgets/controls",
          "model_name": "VBoxModel",
          "model_module_version": "1.5.0",
          "state": {
            "_dom_classes": [
              "widget-interact"
            ],
            "_model_module": "@jupyter-widgets/controls",
            "_model_module_version": "1.5.0",
            "_model_name": "VBoxModel",
            "_view_count": null,
            "_view_module": "@jupyter-widgets/controls",
            "_view_module_version": "1.5.0",
            "_view_name": "VBoxView",
            "box_style": "",
            "children": [
              "IPY_MODEL_8030dcb46cd74495b10a3b5350ff26d6",
              "IPY_MODEL_fc48f4ed77e74035b9d7e92d72cc2e8c"
            ],
            "layout": "IPY_MODEL_f8d5fe06913d49399309ec1415f58c17"
          }
        },
        "8030dcb46cd74495b10a3b5350ff26d6": {
          "model_module": "@jupyter-widgets/controls",
          "model_name": "IntSliderModel",
          "model_module_version": "1.5.0",
          "state": {
            "_dom_classes": [],
            "_model_module": "@jupyter-widgets/controls",
            "_model_module_version": "1.5.0",
            "_model_name": "IntSliderModel",
            "_view_count": null,
            "_view_module": "@jupyter-widgets/controls",
            "_view_module_version": "1.5.0",
            "_view_name": "IntSliderView",
            "continuous_update": false,
            "description": "Slice:",
            "description_tooltip": null,
            "disabled": false,
            "layout": "IPY_MODEL_09091cd832a34cc295fa8b8fb9fc66c3",
            "max": 127,
            "min": 0,
            "orientation": "horizontal",
            "readout": true,
            "readout_format": "d",
            "step": 1,
            "style": "IPY_MODEL_9ebab2c98fcf4372b8fb54015ef61049",
            "value": 0
          }
        },
        "fc48f4ed77e74035b9d7e92d72cc2e8c": {
          "model_module": "@jupyter-widgets/output",
          "model_name": "OutputModel",
          "model_module_version": "1.0.0",
          "state": {
            "_dom_classes": [],
            "_model_module": "@jupyter-widgets/output",
            "_model_module_version": "1.0.0",
            "_model_name": "OutputModel",
            "_view_count": null,
            "_view_module": "@jupyter-widgets/output",
            "_view_module_version": "1.0.0",
            "_view_name": "OutputView",
            "layout": "IPY_MODEL_6aaa4e978afc4cdcbd314145b459d0c2",
            "msg_id": "",
            "outputs": [
              {
                "output_type": "display_data",
                "data": {
                  "text/plain": "<Figure size 640x480 with 1 Axes>",
                  "image/png": "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\n"
                },
                "metadata": {}
              }
            ]
          }
        },
        "f8d5fe06913d49399309ec1415f58c17": {
          "model_module": "@jupyter-widgets/base",
          "model_name": "LayoutModel",
          "model_module_version": "1.2.0",
          "state": {
            "_model_module": "@jupyter-widgets/base",
            "_model_module_version": "1.2.0",
            "_model_name": "LayoutModel",
            "_view_count": null,
            "_view_module": "@jupyter-widgets/base",
            "_view_module_version": "1.2.0",
            "_view_name": "LayoutView",
            "align_content": null,
            "align_items": null,
            "align_self": null,
            "border": null,
            "bottom": null,
            "display": null,
            "flex": null,
            "flex_flow": null,
            "grid_area": null,
            "grid_auto_columns": null,
            "grid_auto_flow": null,
            "grid_auto_rows": null,
            "grid_column": null,
            "grid_gap": null,
            "grid_row": null,
            "grid_template_areas": null,
            "grid_template_columns": null,
            "grid_template_rows": null,
            "height": null,
            "justify_content": null,
            "justify_items": null,
            "left": null,
            "margin": null,
            "max_height": null,
            "max_width": null,
            "min_height": null,
            "min_width": null,
            "object_fit": null,
            "object_position": null,
            "order": null,
            "overflow": null,
            "overflow_x": null,
            "overflow_y": null,
            "padding": null,
            "right": null,
            "top": null,
            "visibility": null,
            "width": null
          }
        },
        "09091cd832a34cc295fa8b8fb9fc66c3": {
          "model_module": "@jupyter-widgets/base",
          "model_name": "LayoutModel",
          "model_module_version": "1.2.0",
          "state": {
            "_model_module": "@jupyter-widgets/base",
            "_model_module_version": "1.2.0",
            "_model_name": "LayoutModel",
            "_view_count": null,
            "_view_module": "@jupyter-widgets/base",
            "_view_module_version": "1.2.0",
            "_view_name": "LayoutView",
            "align_content": null,
            "align_items": null,
            "align_self": null,
            "border": null,
            "bottom": null,
            "display": null,
            "flex": null,
            "flex_flow": null,
            "grid_area": null,
            "grid_auto_columns": null,
            "grid_auto_flow": null,
            "grid_auto_rows": null,
            "grid_column": null,
            "grid_gap": null,
            "grid_row": null,
            "grid_template_areas": null,
            "grid_template_columns": null,
            "grid_template_rows": null,
            "height": null,
            "justify_content": null,
            "justify_items": null,
            "left": null,
            "margin": null,
            "max_height": null,
            "max_width": null,
            "min_height": null,
            "min_width": null,
            "object_fit": null,
            "object_position": null,
            "order": null,
            "overflow": null,
            "overflow_x": null,
            "overflow_y": null,
            "padding": null,
            "right": null,
            "top": null,
            "visibility": null,
            "width": null
          }
        },
        "9ebab2c98fcf4372b8fb54015ef61049": {
          "model_module": "@jupyter-widgets/controls",
          "model_name": "SliderStyleModel",
          "model_module_version": "1.5.0",
          "state": {
            "_model_module": "@jupyter-widgets/controls",
            "_model_module_version": "1.5.0",
            "_model_name": "SliderStyleModel",
            "_view_count": null,
            "_view_module": "@jupyter-widgets/base",
            "_view_module_version": "1.2.0",
            "_view_name": "StyleView",
            "description_width": "",
            "handle_color": null
          }
        },
        "6aaa4e978afc4cdcbd314145b459d0c2": {
          "model_module": "@jupyter-widgets/base",
          "model_name": "LayoutModel",
          "model_module_version": "1.2.0",
          "state": {
            "_model_module": "@jupyter-widgets/base",
            "_model_module_version": "1.2.0",
            "_model_name": "LayoutModel",
            "_view_count": null,
            "_view_module": "@jupyter-widgets/base",
            "_view_module_version": "1.2.0",
            "_view_name": "LayoutView",
            "align_content": null,
            "align_items": null,
            "align_self": null,
            "border": null,
            "bottom": null,
            "display": null,
            "flex": null,
            "flex_flow": null,
            "grid_area": null,
            "grid_auto_columns": null,
            "grid_auto_flow": null,
            "grid_auto_rows": null,
            "grid_column": null,
            "grid_gap": null,
            "grid_row": null,
            "grid_template_areas": null,
            "grid_template_columns": null,
            "grid_template_rows": null,
            "height": null,
            "justify_content": null,
            "justify_items": null,
            "left": null,
            "margin": null,
            "max_height": null,
            "max_width": null,
            "min_height": null,
            "min_width": null,
            "object_fit": null,
            "object_position": null,
            "order": null,
            "overflow": null,
            "overflow_x": null,
            "overflow_y": null,
            "padding": null,
            "right": null,
            "top": null,
            "visibility": null,
            "width": null
          }
        },
        "b7af4e5a67fa447984886337dce055f7": {
          "model_module": "@jupyter-widgets/controls",
          "model_name": "VBoxModel",
          "model_module_version": "1.5.0",
          "state": {
            "_dom_classes": [
              "widget-interact"
            ],
            "_model_module": "@jupyter-widgets/controls",
            "_model_module_version": "1.5.0",
            "_model_name": "VBoxModel",
            "_view_count": null,
            "_view_module": "@jupyter-widgets/controls",
            "_view_module_version": "1.5.0",
            "_view_name": "VBoxView",
            "box_style": "",
            "children": [
              "IPY_MODEL_32fd2afd689343eb8771bc0b4a275200",
              "IPY_MODEL_328a558cb96843369120647998143920"
            ],
            "layout": "IPY_MODEL_127ea2921da8439b9d9e678186eafaf7"
          }
        },
        "32fd2afd689343eb8771bc0b4a275200": {
          "model_module": "@jupyter-widgets/controls",
          "model_name": "IntSliderModel",
          "model_module_version": "1.5.0",
          "state": {
            "_dom_classes": [],
            "_model_module": "@jupyter-widgets/controls",
            "_model_module_version": "1.5.0",
            "_model_name": "IntSliderModel",
            "_view_count": null,
            "_view_module": "@jupyter-widgets/controls",
            "_view_module_version": "1.5.0",
            "_view_name": "IntSliderView",
            "continuous_update": false,
            "description": "Slice:",
            "description_tooltip": null,
            "disabled": false,
            "layout": "IPY_MODEL_e3be2783ea024500886e5048e3d86da5",
            "max": 127,
            "min": 0,
            "orientation": "horizontal",
            "readout": true,
            "readout_format": "d",
            "step": 1,
            "style": "IPY_MODEL_df372ff1b52346faa15706714a504557",
            "value": 0
          }
        },
        "328a558cb96843369120647998143920": {
          "model_module": "@jupyter-widgets/output",
          "model_name": "OutputModel",
          "model_module_version": "1.0.0",
          "state": {
            "_dom_classes": [],
            "_model_module": "@jupyter-widgets/output",
            "_model_module_version": "1.0.0",
            "_model_name": "OutputModel",
            "_view_count": null,
            "_view_module": "@jupyter-widgets/output",
            "_view_module_version": "1.0.0",
            "_view_name": "OutputView",
            "layout": "IPY_MODEL_5ef2ea76495346da8c568208179dca3c",
            "msg_id": "",
            "outputs": [
              {
                "output_type": "display_data",
                "data": {
                  "text/plain": "<Figure size 640x480 with 1 Axes>",
                  "image/png": "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\n"
                },
                "metadata": {}
              }
            ]
          }
        },
        "127ea2921da8439b9d9e678186eafaf7": {
          "model_module": "@jupyter-widgets/base",
          "model_name": "LayoutModel",
          "model_module_version": "1.2.0",
          "state": {
            "_model_module": "@jupyter-widgets/base",
            "_model_module_version": "1.2.0",
            "_model_name": "LayoutModel",
            "_view_count": null,
            "_view_module": "@jupyter-widgets/base",
            "_view_module_version": "1.2.0",
            "_view_name": "LayoutView",
            "align_content": null,
            "align_items": null,
            "align_self": null,
            "border": null,
            "bottom": null,
            "display": null,
            "flex": null,
            "flex_flow": null,
            "grid_area": null,
            "grid_auto_columns": null,
            "grid_auto_flow": null,
            "grid_auto_rows": null,
            "grid_column": null,
            "grid_gap": null,
            "grid_row": null,
            "grid_template_areas": null,
            "grid_template_columns": null,
            "grid_template_rows": null,
            "height": null,
            "justify_content": null,
            "justify_items": null,
            "left": null,
            "margin": null,
            "max_height": null,
            "max_width": null,
            "min_height": null,
            "min_width": null,
            "object_fit": null,
            "object_position": null,
            "order": null,
            "overflow": null,
            "overflow_x": null,
            "overflow_y": null,
            "padding": null,
            "right": null,
            "top": null,
            "visibility": null,
            "width": null
          }
        },
        "e3be2783ea024500886e5048e3d86da5": {
          "model_module": "@jupyter-widgets/base",
          "model_name": "LayoutModel",
          "model_module_version": "1.2.0",
          "state": {
            "_model_module": "@jupyter-widgets/base",
            "_model_module_version": "1.2.0",
            "_model_name": "LayoutModel",
            "_view_count": null,
            "_view_module": "@jupyter-widgets/base",
            "_view_module_version": "1.2.0",
            "_view_name": "LayoutView",
            "align_content": null,
            "align_items": null,
            "align_self": null,
            "border": null,
            "bottom": null,
            "display": null,
            "flex": null,
            "flex_flow": null,
            "grid_area": null,
            "grid_auto_columns": null,
            "grid_auto_flow": null,
            "grid_auto_rows": null,
            "grid_column": null,
            "grid_gap": null,
            "grid_row": null,
            "grid_template_areas": null,
            "grid_template_columns": null,
            "grid_template_rows": null,
            "height": null,
            "justify_content": null,
            "justify_items": null,
            "left": null,
            "margin": null,
            "max_height": null,
            "max_width": null,
            "min_height": null,
            "min_width": null,
            "object_fit": null,
            "object_position": null,
            "order": null,
            "overflow": null,
            "overflow_x": null,
            "overflow_y": null,
            "padding": null,
            "right": null,
            "top": null,
            "visibility": null,
            "width": null
          }
        },
        "df372ff1b52346faa15706714a504557": {
          "model_module": "@jupyter-widgets/controls",
          "model_name": "SliderStyleModel",
          "model_module_version": "1.5.0",
          "state": {
            "_model_module": "@jupyter-widgets/controls",
            "_model_module_version": "1.5.0",
            "_model_name": "SliderStyleModel",
            "_view_count": null,
            "_view_module": "@jupyter-widgets/base",
            "_view_module_version": "1.2.0",
            "_view_name": "StyleView",
            "description_width": "",
            "handle_color": null
          }
        },
        "5ef2ea76495346da8c568208179dca3c": {
          "model_module": "@jupyter-widgets/base",
          "model_name": "LayoutModel",
          "model_module_version": "1.2.0",
          "state": {
            "_model_module": "@jupyter-widgets/base",
            "_model_module_version": "1.2.0",
            "_model_name": "LayoutModel",
            "_view_count": null,
            "_view_module": "@jupyter-widgets/base",
            "_view_module_version": "1.2.0",
            "_view_name": "LayoutView",
            "align_content": null,
            "align_items": null,
            "align_self": null,
            "border": null,
            "bottom": null,
            "display": null,
            "flex": null,
            "flex_flow": null,
            "grid_area": null,
            "grid_auto_columns": null,
            "grid_auto_flow": null,
            "grid_auto_rows": null,
            "grid_column": null,
            "grid_gap": null,
            "grid_row": null,
            "grid_template_areas": null,
            "grid_template_columns": null,
            "grid_template_rows": null,
            "height": null,
            "justify_content": null,
            "justify_items": null,
            "left": null,
            "margin": null,
            "max_height": null,
            "max_width": null,
            "min_height": null,
            "min_width": null,
            "object_fit": null,
            "object_position": null,
            "order": null,
            "overflow": null,
            "overflow_x": null,
            "overflow_y": null,
            "padding": null,
            "right": null,
            "top": null,
            "visibility": null,
            "width": null
          }
        }
      }
    }
  },
  "nbformat": 4,
  "nbformat_minor": 5
}