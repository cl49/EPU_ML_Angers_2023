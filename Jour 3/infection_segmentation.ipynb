{
  "metadata": {
    "kernelspec": {
      "language": "python",
      "display_name": "Python 3",
      "name": "python3"
    },
    "language_info": {
      "pygments_lexer": "ipython3",
      "nbconvert_exporter": "python",
      "version": "3.6.4",
      "file_extension": ".py",
      "codemirror_mode": {
        "name": "ipython",
        "version": 3
      },
      "name": "python",
      "mimetype": "text/x-python"
    },
    "kaggle": {
      "accelerator": "nvidiaTeslaT4",
      "dataSources": [
        {
          "sourceId": 1103067,
          "sourceType": "datasetVersion",
          "datasetId": 561256
        }
      ],
      "dockerImageVersionId": 30446,
      "isInternetEnabled": true,
      "language": "python",
      "sourceType": "notebook",
      "isGpuEnabled": true
    },
    "colab": {
      "provenance": [],
      "include_colab_link": true
    }
  },
  "nbformat_minor": 0,
  "nbformat": 4,
  "cells": [
    {
      "cell_type": "markdown",
      "metadata": {
        "id": "view-in-github",
        "colab_type": "text"
      },
      "source": [
        "<a href=\"https://colab.research.google.com/github/cl49/EPU_ML_Angers_2023/blob/main/Jour%203/infection_segmentation.ipynb\" target=\"_parent\"><img src=\"https://colab.research.google.com/assets/colab-badge.svg\" alt=\"Open In Colab\"/></a>"
      ]
    },
    {
      "cell_type": "code",
      "source": [
        "import matplotlib.pyplot as plt\n",
        "import tensorflow as tf\n",
        "from tensorflow.keras import datasets, layers, models\n",
        "import numpy as np\n",
        "import pandas as pd\n",
        "import imgaug as ia\n",
        "import imgaug.augmenters as iaa\n",
        "import cv2\n",
        "from PIL import Image\n",
        "from pylab import rcParams\n",
        "import nibabel as nib\n",
        "import joblib\n",
        "from sklearn.model_selection import train_test_split\n",
        "from keras.models import Model, load_model\n",
        "from keras.layers import Input, BatchNormalization, Activation, Dense, Dropout, SpatialDropout2D\n",
        "from keras.layers.core import Lambda, RepeatVector, Reshape\n",
        "from keras.layers.convolutional import Conv2D, Conv2DTranspose\n",
        "from keras.layers.pooling import MaxPooling2D, GlobalMaxPool2D\n",
        "from keras.layers import concatenate, add\n",
        "from keras.callbacks import EarlyStopping, ModelCheckpoint, ReduceLROnPlateau, LearningRateScheduler\n",
        "from keras.optimizers import Adam\n",
        "from keras import backend as K\n",
        "import joblib\n",
        "import gc\n",
        "from keras.callbacks import Callback\n",
        "from keras.losses import binary_crossentropy\n",
        "import math"
      ],
      "metadata": {
        "_uuid": "8f2839f25d086af736a60e9eeb907d3b93b6e0e5",
        "_cell_guid": "b1076dfc-b9ad-4769-8c92-a6c4dae69d19",
        "execution": {
          "iopub.status.busy": "2023-04-07T14:39:16.336458Z",
          "iopub.execute_input": "2023-04-07T14:39:16.337042Z",
          "iopub.status.idle": "2023-04-07T14:39:34.274538Z",
          "shell.execute_reply.started": "2023-04-07T14:39:16.337004Z",
          "shell.execute_reply": "2023-04-07T14:39:34.273336Z"
        },
        "trusted": true,
        "id": "e_VUnhg5Irzv"
      },
      "execution_count": null,
      "outputs": []
    },
    {
      "cell_type": "markdown",
      "source": [
        "# Pre-processing"
      ],
      "metadata": {
        "id": "MRSiOHPjIrzx"
      }
    },
    {
      "cell_type": "code",
      "source": [
        "raw_data = pd.read_csv('/kaggle/input/covid19-ct-scans/metadata.csv')\n",
        "raw_data.head(5)"
      ],
      "metadata": {
        "execution": {
          "iopub.status.busy": "2023-04-07T14:39:37.730206Z",
          "iopub.execute_input": "2023-04-07T14:39:37.731177Z",
          "iopub.status.idle": "2023-04-07T14:39:37.778401Z",
          "shell.execute_reply.started": "2023-04-07T14:39:37.731124Z",
          "shell.execute_reply": "2023-04-07T14:39:37.777305Z"
        },
        "trusted": true,
        "id": "v18hUPIoIrzy"
      },
      "execution_count": null,
      "outputs": []
    },
    {
      "cell_type": "code",
      "source": [
        "img_size = 256"
      ],
      "metadata": {
        "execution": {
          "iopub.status.busy": "2023-04-07T14:39:40.406439Z",
          "iopub.execute_input": "2023-04-07T14:39:40.406909Z",
          "iopub.status.idle": "2023-04-07T14:39:40.416826Z",
          "shell.execute_reply.started": "2023-04-07T14:39:40.406868Z",
          "shell.execute_reply": "2023-04-07T14:39:40.415492Z"
        },
        "trusted": true,
        "id": "lkAJa_1CIrzz"
      },
      "execution_count": null,
      "outputs": []
    },
    {
      "cell_type": "code",
      "source": [
        "def clahe_enhancer(test_img, demo):\n",
        "\n",
        "    test_img = test_img*255\n",
        "    test_img = np.uint8(test_img)\n",
        "    test_img_flattened = test_img.flatten()\n",
        "\n",
        "    clahe = cv2.createCLAHE(clipLimit=3.0, tileGridSize=(8,8))\n",
        "    clahe_image = clahe.apply(test_img)\n",
        "    clahe_image_flattened = clahe_image.flatten()\n",
        "\n",
        "    if demo == 1:\n",
        "\n",
        "        fig = plt.figure()\n",
        "        rcParams['figure.figsize'] = 10,10\n",
        "\n",
        "        plt.subplot(2, 2, 1)\n",
        "        plt.imshow(test_img, cmap='bone')\n",
        "        plt.title(\"Original CT-Scan\")\n",
        "\n",
        "        plt.subplot(2, 2, 2)\n",
        "        plt.hist(test_img_flattened)\n",
        "        plt.title(\"Histogram of Original CT-Scan\")\n",
        "\n",
        "        plt.subplot(2, 2, 3)\n",
        "        plt.imshow(clahe_image, cmap='bone')\n",
        "        plt.title(\"CLAHE Enhanced CT-Scan\")\n",
        "\n",
        "        plt.subplot(2, 2, 4)\n",
        "        plt.hist(clahe_image_flattened)\n",
        "        plt.title(\"Histogram of CLAHE Enhanced CT-Scan\")\n",
        "\n",
        "    return(clahe_image)"
      ],
      "metadata": {
        "execution": {
          "iopub.status.busy": "2023-04-07T14:39:41.861906Z",
          "iopub.execute_input": "2023-04-07T14:39:41.86237Z",
          "iopub.status.idle": "2023-04-07T14:39:41.874175Z",
          "shell.execute_reply.started": "2023-04-07T14:39:41.862322Z",
          "shell.execute_reply": "2023-04-07T14:39:41.872881Z"
        },
        "trusted": true,
        "id": "lDNTnIiPIrzz"
      },
      "execution_count": null,
      "outputs": []
    },
    {
      "cell_type": "code",
      "source": [
        "def cropper(test_img, demo):\n",
        "\n",
        "    test_img = test_img*255\n",
        "    test_img = np.uint8(test_img)\n",
        "\n",
        "    contours,hierarchy = cv2.findContours(test_img, cv2.RETR_TREE, cv2.CHAIN_APPROX_SIMPLE)\n",
        "    areas = [cv2.contourArea(c) for c in contours]\n",
        "\n",
        "    x = np.argsort(areas)\n",
        "\n",
        "    max_index = x[x.size - 1]\n",
        "    cnt1=contours[max_index]\n",
        "    second_max_index = x[x.size - 2]\n",
        "    cnt2 = contours[second_max_index]\n",
        "\n",
        "\n",
        "    x,y,w,h = cv2.boundingRect(cnt1)\n",
        "    p,q,r,s = cv2.boundingRect(cnt2)\n",
        "\n",
        "    cropped1 = test_img[y:y+h, x:x+w]\n",
        "    cropped1 = cv2.resize(cropped1, dsize=(128,256), interpolation=cv2.INTER_AREA)\n",
        "    cropped2 = test_img[q:q+s, p:p+r]\n",
        "    cropped2 = cv2.resize(cropped2, dsize=(128,256), interpolation=cv2.INTER_AREA)\n",
        "\n",
        "    fused = np.concatenate((cropped1, cropped2), axis=1)\n",
        "\n",
        "\n",
        "    points_lung1 = []\n",
        "    points_lung2 = []\n",
        "\n",
        "    points_lung1.append(x); points_lung1.append(y); points_lung1.append(w); points_lung1.append(h)\n",
        "    points_lung2.append(p); points_lung2.append(q); points_lung2.append(r); points_lung2.append(s)\n",
        "\n",
        "\n",
        "    return(fused, points_lung1, points_lung2)"
      ],
      "metadata": {
        "execution": {
          "iopub.status.busy": "2023-04-07T14:39:44.568642Z",
          "iopub.execute_input": "2023-04-07T14:39:44.56935Z",
          "iopub.status.idle": "2023-04-07T14:39:44.580005Z",
          "shell.execute_reply.started": "2023-04-07T14:39:44.569308Z",
          "shell.execute_reply": "2023-04-07T14:39:44.578469Z"
        },
        "trusted": true,
        "id": "vgk08XgGIrz0"
      },
      "execution_count": null,
      "outputs": []
    },
    {
      "cell_type": "code",
      "source": [
        "all_points1 = []\n",
        "all_points2 = []"
      ],
      "metadata": {
        "execution": {
          "iopub.status.busy": "2023-04-07T14:40:02.642377Z",
          "iopub.execute_input": "2023-04-07T14:40:02.64314Z",
          "iopub.status.idle": "2023-04-07T14:40:02.647855Z",
          "shell.execute_reply.started": "2023-04-07T14:40:02.643099Z",
          "shell.execute_reply": "2023-04-07T14:40:02.646689Z"
        },
        "trusted": true,
        "id": "b2cHSxPhIrz1"
      },
      "execution_count": null,
      "outputs": []
    },
    {
      "cell_type": "code",
      "source": [
        "def read_nii(filepath, data, string):\n",
        "    '''\n",
        "    Reads .nii file and returns pixel array\n",
        "\n",
        "    '''\n",
        "    global all_points1\n",
        "    global all_points2\n",
        "    ct_scan = nib.load(filepath)\n",
        "    array   = ct_scan.get_fdata()\n",
        "    array   = np.rot90(np.array(array))\n",
        "    slices = array.shape[2]\n",
        "    array = array[:,:,round(slices*0.2):round(slices*0.8)]\n",
        "    array = np.reshape(np.rollaxis(array, 2),(array.shape[2],array.shape[0],array.shape[1],1))\n",
        "\n",
        "\n",
        "    if string == \"lungs\":\n",
        "        all_points1 = []\n",
        "        all_points2 = []\n",
        "\n",
        "    for img_no in range(0, array.shape[0]):\n",
        "        if string == 'lungs' and np.unique(array[img_no]).size == 1:\n",
        "            continue\n",
        "        img = cv2.resize(array[img_no], dsize=(img_size, img_size), interpolation=cv2.INTER_AREA)\n",
        "        xmax, xmin = img.max(), img.min()\n",
        "        img = (img - xmin)/(xmax - xmin)\n",
        "\n",
        "        if string == 'lungs':\n",
        "          # img = np.uint8(img*255)\n",
        "            img[img>0]=1\n",
        "            img, points1, points2 = cropper(img, demo = 0)\n",
        "            all_points1.append((points1[0], points1[1], points1[2], points1[3]))\n",
        "            all_points2.append((points2[0], points2[1], points2[2], points2[3]))\n",
        "            continue\n",
        "\n",
        "        if string == \"cts\" and img_no < len(all_points1):\n",
        "            img = clahe_enhancer(img, demo = 0)\n",
        "          # img, points1, points2 = cropper(img, demo = 0)\n",
        "          # all_points1.append((points1[0], points1[1], points1[2], points1[3]))\n",
        "          # all_points2.append((points2[0], points2[1], points2[2], points2[3]))\n",
        "            a,b,c,d = all_points1[img_no]\n",
        "            e,f,g,h = all_points2[img_no]\n",
        "            img1 = img[b:b+d, a:a+c]\n",
        "            img1 = cv2.resize(img1, dsize=(128,256), interpolation=cv2.INTER_AREA)\n",
        "            img2 = img[f:f+h, e:e+g]\n",
        "            img2 = cv2.resize(img2, dsize=(128,256), interpolation=cv2.INTER_AREA)\n",
        "            img = np.concatenate((img1, img2), axis=1)\n",
        "\n",
        "        if string == \"infections\" and img_no < len(all_points1):\n",
        "            a,b,c,d = c[img_no]\n",
        "            e,f,g,h = all_points2[img_no]\n",
        "            img = np.uint8(img*255)\n",
        "            img1 = img[b:b+d, a:a+c]\n",
        "            img1 = cv2.resize(img1, dsize=(128,256), interpolation=cv2.INTER_AREA)\n",
        "            img2 = img[f:f+h, e:e+g]\n",
        "            img2 = cv2.resize(img2, dsize=(128,256), interpolation=cv2.INTER_AREA)\n",
        "            img = np.concatenate((img1, img2), axis=1)\n",
        "\n",
        "\n",
        "\n",
        "        data.append(img)"
      ],
      "metadata": {
        "execution": {
          "iopub.status.busy": "2023-04-07T14:40:04.549617Z",
          "iopub.execute_input": "2023-04-07T14:40:04.549999Z",
          "iopub.status.idle": "2023-04-07T14:40:04.568028Z",
          "shell.execute_reply.started": "2023-04-07T14:40:04.549962Z",
          "shell.execute_reply": "2023-04-07T14:40:04.566993Z"
        },
        "trusted": true,
        "id": "mtbPXmxpIrz1"
      },
      "execution_count": null,
      "outputs": []
    },
    {
      "cell_type": "code",
      "source": [
        "cts = []\n",
        "lungs = []\n",
        "infections = []"
      ],
      "metadata": {
        "execution": {
          "iopub.status.busy": "2023-04-07T14:46:04.996007Z",
          "iopub.execute_input": "2023-04-07T14:46:04.996428Z",
          "iopub.status.idle": "2023-04-07T14:46:05.002555Z",
          "shell.execute_reply.started": "2023-04-07T14:46:04.99639Z",
          "shell.execute_reply": "2023-04-07T14:46:05.001462Z"
        },
        "trusted": true,
        "id": "X04jD79XIrz2"
      },
      "execution_count": null,
      "outputs": []
    },
    {
      "cell_type": "code",
      "source": [
        "for i in range(0, 20):\n",
        "    read_nii(raw_data.loc[i,'lung_mask'], lungs, 'lungs')\n",
        "    read_nii(raw_data.loc[i,'ct_scan'], cts, 'cts')\n",
        "    read_nii(raw_data.loc[i,'infection_mask'], infections, 'infections')"
      ],
      "metadata": {
        "execution": {
          "iopub.status.busy": "2023-04-07T14:46:08.369133Z",
          "iopub.execute_input": "2023-04-07T14:46:08.370046Z",
          "iopub.status.idle": "2023-04-07T14:46:52.620506Z",
          "shell.execute_reply.started": "2023-04-07T14:46:08.36999Z",
          "shell.execute_reply": "2023-04-07T14:46:52.619421Z"
        },
        "trusted": true,
        "id": "KSQDsMiCIrz2"
      },
      "execution_count": null,
      "outputs": []
    },
    {
      "cell_type": "code",
      "source": [
        "no_masks = []\n",
        "for i in range(0, len(infections)):\n",
        "    if np.unique(infections[i]).size == 1:\n",
        "        no_masks.append(i)\n",
        "print(\"Number of complete black masks :\" , len(no_masks))\n",
        "\n",
        "for index in sorted(no_masks, reverse = True):\n",
        "    del infections[index]\n",
        "    del cts[index]"
      ],
      "metadata": {
        "execution": {
          "iopub.status.busy": "2023-04-07T14:47:14.529942Z",
          "iopub.execute_input": "2023-04-07T14:47:14.530332Z",
          "iopub.status.idle": "2023-04-07T14:47:15.707296Z",
          "shell.execute_reply.started": "2023-04-07T14:47:14.530295Z",
          "shell.execute_reply": "2023-04-07T14:47:15.706043Z"
        },
        "trusted": true,
        "id": "5Sb0ea45Irz2"
      },
      "execution_count": null,
      "outputs": []
    },
    {
      "cell_type": "code",
      "source": [
        "gc.collect()"
      ],
      "metadata": {
        "execution": {
          "iopub.status.busy": "2023-04-07T14:47:18.380992Z",
          "iopub.execute_input": "2023-04-07T14:47:18.381712Z",
          "iopub.status.idle": "2023-04-07T14:47:18.58948Z",
          "shell.execute_reply.started": "2023-04-07T14:47:18.381672Z",
          "shell.execute_reply": "2023-04-07T14:47:18.588223Z"
        },
        "trusted": true,
        "id": "dv5l7uepIrz3"
      },
      "execution_count": null,
      "outputs": []
    },
    {
      "cell_type": "code",
      "source": [
        "x = 60\n",
        "rcParams['figure.figsize'] = 10,10\n",
        "\n",
        "plt.subplot(1, 2, 1)\n",
        "plt.imshow(cts[x], cmap='bone')\n",
        "plt.title(\"Final preprocessed (CLAHE Enhanced + Cropped) Image\")\n",
        "\n",
        "plt.subplot(1, 2, 2)\n",
        "plt.imshow(infections[x], cmap='bone')\n",
        "plt.title(\"Final preprocessed corresponding Mask\")\n",
        "\n",
        "print(cts[x].shape, infections[x].shape)"
      ],
      "metadata": {
        "execution": {
          "iopub.status.busy": "2023-04-05T15:14:01.836492Z",
          "iopub.execute_input": "2023-04-05T15:14:01.836869Z",
          "iopub.status.idle": "2023-04-05T15:14:02.289712Z",
          "shell.execute_reply.started": "2023-04-05T15:14:01.836835Z",
          "shell.execute_reply": "2023-04-05T15:14:02.288791Z"
        },
        "trusted": true,
        "id": "LN5NSPE6Irz3"
      },
      "execution_count": null,
      "outputs": []
    },
    {
      "cell_type": "code",
      "source": [
        "test_file = []\n",
        "read_nii_demo(raw_data.loc[0,'ct_scan'], test_file)\n",
        "test_file = np.array(test_file)\n",
        "rcParams['figure.figsize'] = 10, 10\n",
        "clahe_image = clahe_enhancer(test_file[60], demo = 1)"
      ],
      "metadata": {
        "execution": {
          "iopub.status.busy": "2023-04-05T15:11:11.633252Z",
          "iopub.status.idle": "2023-04-05T15:11:11.635975Z",
          "shell.execute_reply.started": "2023-04-05T15:11:11.635705Z",
          "shell.execute_reply": "2023-04-05T15:11:11.635733Z"
        },
        "trusted": true,
        "id": "DKZkcCSWIrz4"
      },
      "execution_count": null,
      "outputs": []
    },
    {
      "cell_type": "code",
      "source": [
        "new_dim = 224"
      ],
      "metadata": {
        "execution": {
          "iopub.status.busy": "2023-04-07T14:47:25.515306Z",
          "iopub.execute_input": "2023-04-07T14:47:25.515691Z",
          "iopub.status.idle": "2023-04-07T14:47:25.520696Z",
          "shell.execute_reply.started": "2023-04-07T14:47:25.515657Z",
          "shell.execute_reply": "2023-04-07T14:47:25.519516Z"
        },
        "trusted": true,
        "id": "KO7AxDzvIrz4"
      },
      "execution_count": null,
      "outputs": []
    },
    {
      "cell_type": "code",
      "source": [
        "for i in range(0,len(cts)):\n",
        "    cts[i] = cv2.resize(cts[i], dsize=(new_dim, new_dim), interpolation=cv2.INTER_LINEAR)\n",
        "    infections[i] = cv2.resize(infections[i], dsize=(new_dim, new_dim), interpolation=cv2.INTER_LINEAR)"
      ],
      "metadata": {
        "execution": {
          "iopub.status.busy": "2023-04-07T14:47:26.820255Z",
          "iopub.execute_input": "2023-04-07T14:47:26.821236Z",
          "iopub.status.idle": "2023-04-07T14:47:27.012583Z",
          "shell.execute_reply.started": "2023-04-07T14:47:26.821186Z",
          "shell.execute_reply": "2023-04-07T14:47:27.011483Z"
        },
        "trusted": true,
        "id": "rlmjCGEIIrz4"
      },
      "execution_count": null,
      "outputs": []
    },
    {
      "cell_type": "markdown",
      "source": [
        "# Data Augmentation"
      ],
      "metadata": {
        "id": "yea2OpZnIrz5"
      }
    },
    {
      "cell_type": "code",
      "source": [
        "cts = np.array(cts)\n",
        "infections = np.array(infections)"
      ],
      "metadata": {
        "execution": {
          "iopub.status.busy": "2023-04-07T14:47:30.127188Z",
          "iopub.execute_input": "2023-04-07T14:47:30.127578Z",
          "iopub.status.idle": "2023-04-07T14:47:30.453852Z",
          "shell.execute_reply.started": "2023-04-07T14:47:30.127543Z",
          "shell.execute_reply": "2023-04-07T14:47:30.452699Z"
        },
        "trusted": true,
        "id": "26HAJ_yjIrz5"
      },
      "execution_count": null,
      "outputs": []
    },
    {
      "cell_type": "code",
      "source": [
        "cts = np.uint8(cts)\n",
        "infections = np.uint8(infections)"
      ],
      "metadata": {
        "execution": {
          "iopub.status.busy": "2023-04-07T14:47:32.554366Z",
          "iopub.execute_input": "2023-04-07T14:47:32.555009Z",
          "iopub.status.idle": "2023-04-07T14:47:32.71451Z",
          "shell.execute_reply.started": "2023-04-07T14:47:32.55497Z",
          "shell.execute_reply": "2023-04-07T14:47:32.713387Z"
        },
        "trusted": true,
        "id": "pkAP-CBYIrz5"
      },
      "execution_count": null,
      "outputs": []
    },
    {
      "cell_type": "code",
      "source": [
        "sometimes = lambda aug: iaa.Sometimes(0.5, aug)\n",
        "\n",
        "seq = iaa.Sequential([\n",
        "    iaa.Fliplr(0.5), # horizontally flip 50% of all images\n",
        "    iaa.Flipud(0.2), # vertically flip 20% of all images\n",
        "    sometimes(iaa.Affine(\n",
        "            scale={\"x\": (0.8, 1.2), \"y\": (0.8, 1.2)}, # scale images to 80-120% of their size, individually per axis\n",
        "            translate_percent={\"x\": (-0.2, 0.2), \"y\": (-0.2, 0.2)}, # translate by -20 to +20 percent (per axis)\n",
        "            rotate=(-30, 30), # rotate by -30 to +30 degrees\n",
        "            shear=(-15, 15), # shear by -15 to +15 degrees\n",
        "        ))\n",
        "], random_order=True)"
      ],
      "metadata": {
        "execution": {
          "iopub.status.busy": "2023-04-07T14:47:35.644646Z",
          "iopub.execute_input": "2023-04-07T14:47:35.645694Z",
          "iopub.status.idle": "2023-04-07T14:47:35.653335Z",
          "shell.execute_reply.started": "2023-04-07T14:47:35.64565Z",
          "shell.execute_reply": "2023-04-07T14:47:35.652069Z"
        },
        "trusted": true,
        "id": "x_a9FrhwIrz6"
      },
      "execution_count": null,
      "outputs": []
    },
    {
      "cell_type": "code",
      "source": [
        "len(cts) * 0.25"
      ],
      "metadata": {
        "execution": {
          "iopub.status.busy": "2023-04-07T14:47:38.485979Z",
          "iopub.execute_input": "2023-04-07T14:47:38.486426Z",
          "iopub.status.idle": "2023-04-07T14:47:38.49375Z",
          "shell.execute_reply.started": "2023-04-07T14:47:38.486385Z",
          "shell.execute_reply": "2023-04-07T14:47:38.492525Z"
        },
        "trusted": true,
        "id": "VIq8n2FcIrz6"
      },
      "execution_count": null,
      "outputs": []
    },
    {
      "cell_type": "code",
      "source": [
        "cts = cts.reshape(len(cts), new_dim, new_dim, 1)\n",
        "infections = infections.reshape(len(infections), new_dim, new_dim, 1)"
      ],
      "metadata": {
        "execution": {
          "iopub.status.busy": "2023-04-07T14:47:46.222702Z",
          "iopub.execute_input": "2023-04-07T14:47:46.223382Z",
          "iopub.status.idle": "2023-04-07T14:47:46.229351Z",
          "shell.execute_reply.started": "2023-04-07T14:47:46.223339Z",
          "shell.execute_reply": "2023-04-07T14:47:46.227868Z"
        },
        "trusted": true,
        "id": "rLUS-DwnIrz7"
      },
      "execution_count": null,
      "outputs": []
    },
    {
      "cell_type": "code",
      "source": [
        "no_of_aug_imgs = 403\n",
        "random_indices = np.random.randint(0, cts.shape[0], size=no_of_aug_imgs)\n",
        "sample_cts = cts[random_indices]\n",
        "sample_inf = infections[random_indices]"
      ],
      "metadata": {
        "execution": {
          "iopub.status.busy": "2023-04-07T14:47:48.131233Z",
          "iopub.execute_input": "2023-04-07T14:47:48.132171Z",
          "iopub.status.idle": "2023-04-07T14:47:48.154099Z",
          "shell.execute_reply.started": "2023-04-07T14:47:48.132108Z",
          "shell.execute_reply": "2023-04-07T14:47:48.152871Z"
        },
        "trusted": true,
        "id": "SBb53Yp4Irz7"
      },
      "execution_count": null,
      "outputs": []
    },
    {
      "cell_type": "code",
      "source": [
        "cts_aug, infections_aug = seq(images=sample_cts, segmentation_maps=sample_inf)"
      ],
      "metadata": {
        "execution": {
          "iopub.status.busy": "2023-04-07T14:47:50.21136Z",
          "iopub.execute_input": "2023-04-07T14:47:50.211746Z",
          "iopub.status.idle": "2023-04-07T14:47:50.625042Z",
          "shell.execute_reply.started": "2023-04-07T14:47:50.21171Z",
          "shell.execute_reply": "2023-04-07T14:47:50.624014Z"
        },
        "trusted": true,
        "id": "LfSzcStuIrz7"
      },
      "execution_count": null,
      "outputs": []
    },
    {
      "cell_type": "code",
      "source": [
        "rcParams['figure.figsize'] = 60,60\n",
        "rand = np.random.randint(0, no_of_aug_imgs, size=8)\n",
        "\n",
        "cells1 = cts_aug[rand]\n",
        "grid_image1 = np.hstack(cells1)\n",
        "plt.imshow(grid_image1, cmap = 'bone')\n",
        "plt.grid(False)"
      ],
      "metadata": {
        "execution": {
          "iopub.status.busy": "2023-04-07T14:47:53.077496Z",
          "iopub.execute_input": "2023-04-07T14:47:53.078103Z",
          "iopub.status.idle": "2023-04-07T14:47:55.370852Z",
          "shell.execute_reply.started": "2023-04-07T14:47:53.078056Z",
          "shell.execute_reply": "2023-04-07T14:47:55.369349Z"
        },
        "trusted": true,
        "id": "SjxfqgiIIrz8"
      },
      "execution_count": null,
      "outputs": []
    },
    {
      "cell_type": "code",
      "source": [
        "rcParams['figure.figsize'] = 60,60\n",
        "cells1 = infections_aug[rand]\n",
        "grid_image1 = np.hstack(cells1)\n",
        "plt.imshow(grid_image1, cmap = 'bone')\n",
        "plt.grid(False)"
      ],
      "metadata": {
        "execution": {
          "iopub.status.busy": "2023-04-07T14:48:18.851528Z",
          "iopub.execute_input": "2023-04-07T14:48:18.851985Z",
          "iopub.status.idle": "2023-04-07T14:48:20.083356Z",
          "shell.execute_reply.started": "2023-04-07T14:48:18.851941Z",
          "shell.execute_reply": "2023-04-07T14:48:20.08241Z"
        },
        "trusted": true,
        "id": "khfw0FcgIrz8"
      },
      "execution_count": null,
      "outputs": []
    },
    {
      "cell_type": "code",
      "source": [
        "cts_aug = cts_aug.reshape(len(cts_aug), new_dim, new_dim, 1)\n",
        "infections_aug = infections_aug.reshape(len(infections_aug), new_dim, new_dim, 1)"
      ],
      "metadata": {
        "execution": {
          "iopub.status.busy": "2023-04-07T14:48:34.597391Z",
          "iopub.execute_input": "2023-04-07T14:48:34.598394Z",
          "iopub.status.idle": "2023-04-07T14:48:34.603425Z",
          "shell.execute_reply.started": "2023-04-07T14:48:34.598353Z",
          "shell.execute_reply": "2023-04-07T14:48:34.60232Z"
        },
        "trusted": true,
        "id": "VEsj8bO9Irz8"
      },
      "execution_count": null,
      "outputs": []
    },
    {
      "cell_type": "code",
      "source": [
        "cts = np.concatenate((cts, cts_aug))\n",
        "infections = np.concatenate((infections, infections_aug))"
      ],
      "metadata": {
        "execution": {
          "iopub.status.busy": "2023-04-07T14:48:37.635138Z",
          "iopub.execute_input": "2023-04-07T14:48:37.635896Z",
          "iopub.status.idle": "2023-04-07T14:48:37.719911Z",
          "shell.execute_reply.started": "2023-04-07T14:48:37.635854Z",
          "shell.execute_reply": "2023-04-07T14:48:37.718878Z"
        },
        "trusted": true,
        "id": "55vOsgzeIrz9"
      },
      "execution_count": null,
      "outputs": []
    },
    {
      "cell_type": "code",
      "source": [
        "cts = cts/255\n",
        "infections = infections/255"
      ],
      "metadata": {
        "execution": {
          "iopub.status.busy": "2023-04-07T14:48:40.239413Z",
          "iopub.execute_input": "2023-04-07T14:48:40.240232Z",
          "iopub.status.idle": "2023-04-07T14:48:40.858572Z",
          "shell.execute_reply.started": "2023-04-07T14:48:40.24019Z",
          "shell.execute_reply": "2023-04-07T14:48:40.857332Z"
        },
        "trusted": true,
        "id": "52saEcn2Irz9"
      },
      "execution_count": null,
      "outputs": []
    },
    {
      "cell_type": "code",
      "source": [
        "def plot_sample(array_list, color_map = 'nipy_spectral'):\n",
        "    '''\n",
        "    Plots and a slice with all available annotations\n",
        "    '''\n",
        "    fig = plt.figure(figsize=(10,30))\n",
        "\n",
        "    plt.subplot(1,2,1)\n",
        "    plt.imshow(array_list[0].reshape(new_dim, new_dim), cmap='bone')\n",
        "    plt.title('Original Image')\n",
        "\n",
        "    plt.subplot(1,2,2)\n",
        "    plt.imshow(array_list[0].reshape(new_dim, new_dim), cmap='bone')\n",
        "    plt.imshow(array_list[1].reshape(new_dim, new_dim), alpha=0.5, cmap=color_map)\n",
        "    plt.title('Infection Mask')\n",
        "\n",
        "\n",
        "\n",
        "    plt.show()"
      ],
      "metadata": {
        "execution": {
          "iopub.status.busy": "2023-04-07T14:48:44.131122Z",
          "iopub.execute_input": "2023-04-07T14:48:44.131724Z",
          "iopub.status.idle": "2023-04-07T14:48:44.140419Z",
          "shell.execute_reply.started": "2023-04-07T14:48:44.131684Z",
          "shell.execute_reply": "2023-04-07T14:48:44.13931Z"
        },
        "trusted": true,
        "id": "V6iZR_yLIrz9"
      },
      "execution_count": null,
      "outputs": []
    },
    {
      "cell_type": "code",
      "source": [
        "for index in [100,110,120,130,140,150]:\n",
        "    plot_sample([cts[index], infections[index]])"
      ],
      "metadata": {
        "execution": {
          "iopub.status.busy": "2023-04-05T15:19:51.181204Z",
          "iopub.execute_input": "2023-04-05T15:19:51.181707Z",
          "iopub.status.idle": "2023-04-05T15:19:55.26695Z",
          "shell.execute_reply.started": "2023-04-05T15:19:51.181667Z",
          "shell.execute_reply": "2023-04-05T15:19:55.265973Z"
        },
        "trusted": true,
        "id": "4sygzUmoIrz9"
      },
      "execution_count": null,
      "outputs": []
    },
    {
      "cell_type": "markdown",
      "source": [
        "# Model training"
      ],
      "metadata": {
        "id": "5LULYGpLIrz-"
      }
    },
    {
      "cell_type": "code",
      "source": [
        "x_train, x_valid, y_train, y_valid = train_test_split(cts, infections, test_size=0.2, random_state=42)"
      ],
      "metadata": {
        "execution": {
          "iopub.status.busy": "2023-04-07T14:49:09.468882Z",
          "iopub.execute_input": "2023-04-07T14:49:09.469854Z",
          "iopub.status.idle": "2023-04-07T14:49:10.446854Z",
          "shell.execute_reply.started": "2023-04-07T14:49:09.469814Z",
          "shell.execute_reply": "2023-04-07T14:49:10.445702Z"
        },
        "trusted": true,
        "id": "TFh5r50SIrz-"
      },
      "execution_count": null,
      "outputs": []
    },
    {
      "cell_type": "code",
      "source": [
        "from keras import backend as K"
      ],
      "metadata": {
        "execution": {
          "iopub.status.busy": "2023-04-07T14:49:13.5077Z",
          "iopub.execute_input": "2023-04-07T14:49:13.508171Z",
          "iopub.status.idle": "2023-04-07T14:49:13.513617Z",
          "shell.execute_reply.started": "2023-04-07T14:49:13.508128Z",
          "shell.execute_reply": "2023-04-07T14:49:13.512568Z"
        },
        "trusted": true,
        "id": "fB6pVmZjIrz-"
      },
      "execution_count": null,
      "outputs": []
    },
    {
      "cell_type": "code",
      "source": [
        "def dice_coeff(y_true, y_pred):\n",
        "    smooth = 1.\n",
        "    y_pred_f = K.cast(y_pred, 'float32')\n",
        "    y_true_f = K.cast(y_true, 'float32')\n",
        "    intersection = K.sum(y_true_f * y_pred_f)\n",
        "    score = (2. * intersection + smooth) / (K.sum(y_true_f) + K.sum(y_pred_f) + smooth)\n",
        "    return score\n",
        "\n",
        "def dice_loss(y_true, y_pred):\n",
        "    loss = 1 - dice_coeff(y_true, y_pred)\n",
        "    return loss\n",
        "\n",
        "\n",
        "def bce_dice_loss(y_true, y_pred):\n",
        "    loss = 0.5*binary_crossentropy(y_true, y_pred) + 0.5*dice_loss(y_true, y_pred)\n",
        "    return loss\n"
      ],
      "metadata": {
        "execution": {
          "iopub.status.busy": "2023-04-07T14:49:22.520457Z",
          "iopub.execute_input": "2023-04-07T14:49:22.520983Z",
          "iopub.status.idle": "2023-04-07T14:49:22.529206Z",
          "shell.execute_reply.started": "2023-04-07T14:49:22.52094Z",
          "shell.execute_reply": "2023-04-07T14:49:22.527964Z"
        },
        "trusted": true,
        "id": "ofxI3Y8yIrz-"
      },
      "execution_count": null,
      "outputs": []
    },
    {
      "cell_type": "code",
      "source": [
        "inputs = Input((new_dim, new_dim, 1))\n",
        "\n",
        "c1 = Conv2D(32, (3, 3), activation='relu', padding='same', kernel_initializer=\"he_normal\") (inputs)\n",
        "c1 = Conv2D(32, (3, 3), activation='relu', padding='same', kernel_initializer=\"he_normal\") (c1)\n",
        "c1 = BatchNormalization()(c1)\n",
        "p1 = MaxPooling2D((2, 2)) (c1)\n",
        "p1 = Dropout(0.25)(p1)\n",
        "\n",
        "c2 = Conv2D(64, (3, 3), activation='relu', padding='same', kernel_initializer=\"he_normal\") (p1)\n",
        "c2 = Conv2D(64, (3, 3), activation='relu', padding='same', kernel_initializer=\"he_normal\") (c2)\n",
        "c2 = BatchNormalization()(c2)\n",
        "p2 = MaxPooling2D((2, 2)) (c2)\n",
        "p2 = Dropout(0.25)(p2)\n",
        "\n",
        "c3 = Conv2D(128, (3, 3), activation='relu', padding='same', kernel_initializer=\"he_normal\") (p2)\n",
        "c3 = Conv2D(128, (3, 3), activation='relu', padding='same', kernel_initializer=\"he_normal\") (c3)\n",
        "c3 = BatchNormalization()(c3)\n",
        "p3 = MaxPooling2D((2, 2)) (c3)\n",
        "p3 = Dropout(0.25)(p3)\n",
        "\n",
        "c4 = Conv2D(256, (3, 3), activation='relu', padding='same', kernel_initializer=\"he_normal\") (p3)\n",
        "c4 = Conv2D(256, (3, 3), activation='relu', padding='same', kernel_initializer=\"he_normal\") (c4)\n",
        "c4 = BatchNormalization()(c4)\n",
        "p4 = MaxPooling2D(pool_size=(2, 2)) (c4)\n",
        "p4 = Dropout(0.25)(p4)\n",
        "\n",
        "c5 = Conv2D(512, (3, 3), activation='relu', padding='same', kernel_initializer=\"he_normal\") (p4)\n",
        "c5 = Conv2D(512, (3, 3), activation='relu', padding='same', kernel_initializer=\"he_normal\") (c5)\n",
        "\n",
        "u6 = Conv2DTranspose(256, (2, 2), strides=(2, 2), padding='same')(c5)\n",
        "u6 = concatenate([u6, c4])\n",
        "u6 = BatchNormalization()(u6)\n",
        "c6 = Conv2D(256, (3, 3), activation='relu', padding='same', kernel_initializer=\"he_normal\") (u6)\n",
        "c6 = Conv2D(256, (3, 3), activation='relu', padding='same', kernel_initializer=\"he_normal\") (c6)\n",
        "\n",
        "\n",
        "u7 = Conv2DTranspose(128, (2, 2), strides=(2, 2), padding='same') (c6)\n",
        "u7 = concatenate([u7, c3])\n",
        "u7 = BatchNormalization()(u7)\n",
        "c7 = Conv2D(128, (3, 3), activation='relu', padding='same', kernel_initializer=\"he_normal\") (u7)\n",
        "c7 = Conv2D(128, (3, 3), activation='relu', padding='same', kernel_initializer=\"he_normal\") (c7)\n",
        "\n",
        "\n",
        "u8 = Conv2DTranspose(64, (2, 2), strides=(2, 2), padding='same') (c7)\n",
        "u8 = concatenate([u8, c2])\n",
        "u8 = BatchNormalization()(u8)\n",
        "c8 = Conv2D(64, (3, 3), activation='relu', padding='same', kernel_initializer=\"he_normal\") (u8)\n",
        "c8 = Conv2D(64, (3, 3), activation='relu', padding='same', kernel_initializer=\"he_normal\") (c8)\n",
        "\n",
        "\n",
        "u9 = Conv2DTranspose(32, (2, 2), strides=(2, 2), padding='same') (c8)\n",
        "u9 = concatenate([u9, c1], axis=3)\n",
        "u9 = BatchNormalization()(u9)\n",
        "c9 = Conv2D(32, (3, 3), activation='relu', padding='same', kernel_initializer=\"he_normal\") (u9)\n",
        "c9 = Conv2D(32, (3, 3), activation='relu', padding='same', kernel_initializer=\"he_normal\") (c9)\n",
        "\n",
        "outputs = Conv2D(1, (1, 1), activation='sigmoid') (c9)\n",
        "\n",
        "model = Model(inputs=[inputs], outputs=[outputs])\n",
        "model.summary()"
      ],
      "metadata": {
        "execution": {
          "iopub.status.busy": "2023-04-07T14:49:25.747682Z",
          "iopub.execute_input": "2023-04-07T14:49:25.748335Z",
          "iopub.status.idle": "2023-04-07T14:49:31.799312Z",
          "shell.execute_reply.started": "2023-04-07T14:49:25.748293Z",
          "shell.execute_reply": "2023-04-07T14:49:31.798469Z"
        },
        "trusted": true,
        "id": "z3kKcyXgIrz-"
      },
      "execution_count": null,
      "outputs": []
    },
    {
      "cell_type": "code",
      "source": [
        "batch_size = 32\n",
        "epochs = 50\n",
        "filepath_dice_coeff=\"unet_covid_weights_dice_coeff.hdf5\"\n",
        "filepath_loss = \"unet_covid_weights_val_loss.hdf5\"\n",
        "checkpoint_dice = ModelCheckpoint(filepath_dice_coeff, monitor='val_dice_coeff', verbose=1, save_best_only=True, mode='max')\n",
        "checkpoint_loss = ModelCheckpoint(filepath_loss, monitor='val_loss', verbose=1, save_best_only=True, mode='min')"
      ],
      "metadata": {
        "execution": {
          "iopub.status.busy": "2023-04-07T14:49:51.696384Z",
          "iopub.execute_input": "2023-04-07T14:49:51.696805Z",
          "iopub.status.idle": "2023-04-07T14:49:51.702749Z",
          "shell.execute_reply.started": "2023-04-07T14:49:51.696756Z",
          "shell.execute_reply": "2023-04-07T14:49:51.701416Z"
        },
        "trusted": true,
        "id": "LQiilfZDIrz_"
      },
      "execution_count": null,
      "outputs": []
    },
    {
      "cell_type": "code",
      "source": [
        "model.compile(optimizer=Adam(lr = 0.0001), loss=bce_dice_loss, metrics=[dice_coeff])\n"
      ],
      "metadata": {
        "execution": {
          "iopub.status.busy": "2023-04-07T14:49:56.261128Z",
          "iopub.execute_input": "2023-04-07T14:49:56.261846Z",
          "iopub.status.idle": "2023-04-07T14:49:56.284999Z",
          "shell.execute_reply.started": "2023-04-07T14:49:56.261807Z",
          "shell.execute_reply": "2023-04-07T14:49:56.283932Z"
        },
        "trusted": true,
        "id": "zqpup1m9Irz_"
      },
      "execution_count": null,
      "outputs": []
    },
    {
      "cell_type": "code",
      "source": [
        "del lungs\n",
        "del cts_aug\n",
        "del infections_aug\n",
        "gc.collect()"
      ],
      "metadata": {
        "execution": {
          "iopub.status.busy": "2023-04-07T14:51:11.018043Z",
          "iopub.execute_input": "2023-04-07T14:51:11.018447Z",
          "iopub.status.idle": "2023-04-07T14:51:11.254869Z",
          "shell.execute_reply.started": "2023-04-07T14:51:11.01841Z",
          "shell.execute_reply": "2023-04-07T14:51:11.253777Z"
        },
        "trusted": true,
        "id": "91iRljJdIrz_"
      },
      "execution_count": null,
      "outputs": []
    },
    {
      "cell_type": "code",
      "source": [
        "results = model.fit(x_train, y_train, batch_size=batch_size, epochs=epochs,\n",
        "                    validation_data=(x_valid, y_valid),\n",
        "                    callbacks = [checkpoint_dice, checkpoint_loss])"
      ],
      "metadata": {
        "execution": {
          "iopub.status.busy": "2023-04-07T14:51:46.112139Z",
          "iopub.execute_input": "2023-04-07T14:51:46.112516Z",
          "iopub.status.idle": "2023-04-07T15:22:13.210407Z",
          "shell.execute_reply.started": "2023-04-07T14:51:46.112481Z",
          "shell.execute_reply": "2023-04-07T15:22:13.209308Z"
        },
        "trusted": true,
        "id": "GXTrfpICIr0A"
      },
      "execution_count": null,
      "outputs": []
    },
    {
      "cell_type": "code",
      "source": [
        "gc.collect()"
      ],
      "metadata": {
        "execution": {
          "iopub.status.busy": "2023-04-07T15:22:13.51517Z",
          "iopub.execute_input": "2023-04-07T15:22:13.515518Z",
          "iopub.status.idle": "2023-04-07T15:22:13.748333Z",
          "shell.execute_reply.started": "2023-04-07T15:22:13.515486Z",
          "shell.execute_reply": "2023-04-07T15:22:13.746864Z"
        },
        "trusted": true,
        "id": "Xsp_rP7QIr0A"
      },
      "execution_count": null,
      "outputs": []
    },
    {
      "cell_type": "code",
      "source": [
        "model.load_weights(filepath_dice_coeff)"
      ],
      "metadata": {
        "execution": {
          "iopub.status.busy": "2023-04-07T15:22:20.186222Z",
          "iopub.execute_input": "2023-04-07T15:22:20.186714Z",
          "iopub.status.idle": "2023-04-07T15:22:20.325036Z",
          "shell.execute_reply.started": "2023-04-07T15:22:20.186669Z",
          "shell.execute_reply": "2023-04-07T15:22:20.323913Z"
        },
        "trusted": true,
        "id": "43lD8XIyIr0A"
      },
      "execution_count": null,
      "outputs": []
    },
    {
      "cell_type": "code",
      "source": [
        "score = model.evaluate(x_valid, y_valid, batch_size=32)\n",
        "print(\"test loss, test dice coefficient:\", score)"
      ],
      "metadata": {
        "execution": {
          "iopub.status.busy": "2023-04-07T15:22:25.954803Z",
          "iopub.execute_input": "2023-04-07T15:22:25.955523Z",
          "iopub.status.idle": "2023-04-07T15:22:28.086929Z",
          "shell.execute_reply.started": "2023-04-07T15:22:25.955482Z",
          "shell.execute_reply": "2023-04-07T15:22:28.085417Z"
        },
        "trusted": true,
        "id": "394h7hV-Ir0A"
      },
      "execution_count": null,
      "outputs": []
    },
    {
      "cell_type": "code",
      "source": [
        "del x_valid\n",
        "del y_valid\n",
        "del x_train\n",
        "del y_train\n",
        "gc.collect()"
      ],
      "metadata": {
        "execution": {
          "iopub.status.busy": "2023-04-07T15:23:07.58537Z",
          "iopub.execute_input": "2023-04-07T15:23:07.586112Z",
          "iopub.status.idle": "2023-04-07T15:23:07.860954Z",
          "shell.execute_reply.started": "2023-04-07T15:23:07.586073Z",
          "shell.execute_reply": "2023-04-07T15:23:07.85972Z"
        },
        "trusted": true,
        "id": "PhX4nTvpIr0B"
      },
      "execution_count": null,
      "outputs": []
    },
    {
      "cell_type": "code",
      "source": [
        "model_json = model.to_json()\n",
        "with open(\"unet_infection_0.8404_.json\",\"w\") as json_file:\n",
        "     json_file.write(model_json)"
      ],
      "metadata": {
        "execution": {
          "iopub.status.busy": "2023-04-07T15:23:12.288011Z",
          "iopub.execute_input": "2023-04-07T15:23:12.28861Z",
          "iopub.status.idle": "2023-04-07T15:23:12.316724Z",
          "shell.execute_reply.started": "2023-04-07T15:23:12.288561Z",
          "shell.execute_reply": "2023-04-07T15:23:12.315506Z"
        },
        "trusted": true,
        "id": "Uic10AR8Ir0B"
      },
      "execution_count": null,
      "outputs": []
    },
    {
      "cell_type": "code",
      "source": [
        "model.save_weights('unet_infection_8404.h5')"
      ],
      "metadata": {
        "execution": {
          "iopub.status.busy": "2023-04-07T15:23:29.995004Z",
          "iopub.execute_input": "2023-04-07T15:23:29.995513Z",
          "iopub.status.idle": "2023-04-07T15:23:30.109747Z",
          "shell.execute_reply.started": "2023-04-07T15:23:29.995473Z",
          "shell.execute_reply": "2023-04-07T15:23:30.10862Z"
        },
        "trusted": true,
        "id": "3WNZIt1BIr0B"
      },
      "execution_count": null,
      "outputs": []
    },
    {
      "cell_type": "code",
      "source": [
        "rcParams['figure.figsize'] = 5, 5\n",
        "plt.plot(results.history['dice_coeff'])\n",
        "plt.plot(results.history['val_dice_coeff'])\n",
        "plt.title('Dice Coefficient')\n",
        "plt.ylabel('Dice coefficient')\n",
        "plt.xlabel('epoch')\n",
        "plt.legend(['train', 'test'], loc='upper left')\n",
        "plt.show()\n",
        "# summarize history for loss\n",
        "plt.ylim(0, 3)\n",
        "plt.plot(results.history['loss'])\n",
        "plt.plot(results.history['val_loss'])\n",
        "plt.title('Dice Loss')\n",
        "plt.ylabel('loss')\n",
        "plt.xlabel('epoch')\n",
        "plt.legend(['train', 'test'], loc='upper left')\n",
        "plt.show()"
      ],
      "metadata": {
        "execution": {
          "iopub.status.busy": "2023-04-07T15:23:33.071028Z",
          "iopub.execute_input": "2023-04-07T15:23:33.071469Z",
          "iopub.status.idle": "2023-04-07T15:23:33.540232Z",
          "shell.execute_reply.started": "2023-04-07T15:23:33.07143Z",
          "shell.execute_reply": "2023-04-07T15:23:33.539192Z"
        },
        "trusted": true,
        "id": "J6sn9upRIr0B"
      },
      "execution_count": null,
      "outputs": []
    },
    {
      "cell_type": "code",
      "source": [
        "def compare_actual_and_predicted(image_no):\n",
        "    temp = model.predict(cts[image_no].reshape(1,new_dim, new_dim, 1))\n",
        "\n",
        "    fig = plt.figure(figsize=(15,15))\n",
        "\n",
        "    plt.subplot(1,3,1)\n",
        "    plt.imshow(cts[image_no].reshape(new_dim, new_dim), cmap='bone')\n",
        "    plt.title('Original Image (CT)')\n",
        "\n",
        "    plt.subplot(1,3,2)\n",
        "    plt.imshow(infections[image_no].reshape(new_dim,new_dim), cmap='bone')\n",
        "    plt.title('Actual mask')\n",
        "\n",
        "    plt.subplot(1,3,3)\n",
        "    plt.imshow(temp.reshape(new_dim,new_dim), cmap='bone')\n",
        "    plt.title('Predicted mask')\n",
        "\n",
        "    plt.show()"
      ],
      "metadata": {
        "execution": {
          "iopub.status.busy": "2023-04-07T15:23:41.775236Z",
          "iopub.execute_input": "2023-04-07T15:23:41.776036Z",
          "iopub.status.idle": "2023-04-07T15:23:41.783836Z",
          "shell.execute_reply.started": "2023-04-07T15:23:41.775995Z",
          "shell.execute_reply": "2023-04-07T15:23:41.782518Z"
        },
        "trusted": true,
        "id": "lCfJ8sgnIr0C"
      },
      "execution_count": null,
      "outputs": []
    },
    {
      "cell_type": "markdown",
      "source": [
        "# Comparison of normal images"
      ],
      "metadata": {
        "id": "lJDECcsEIr0C"
      }
    },
    {
      "cell_type": "code",
      "source": [
        "for i in [440,269,555, 355, 380, 90]:\n",
        "    compare_actual_and_predicted(i)"
      ],
      "metadata": {
        "execution": {
          "iopub.status.busy": "2023-04-07T15:23:46.766548Z",
          "iopub.execute_input": "2023-04-07T15:23:46.76726Z",
          "iopub.status.idle": "2023-04-07T15:23:51.350473Z",
          "shell.execute_reply.started": "2023-04-07T15:23:46.767203Z",
          "shell.execute_reply": "2023-04-07T15:23:51.349219Z"
        },
        "trusted": true,
        "id": "_hhMX_CEIr0C"
      },
      "execution_count": null,
      "outputs": []
    },
    {
      "cell_type": "markdown",
      "source": [
        "# Comparison of augmented images"
      ],
      "metadata": {
        "id": "GMeEduHiIr0C"
      }
    },
    {
      "cell_type": "code",
      "source": [
        "for i in [2001,1717, 1890,1770,1655]:\n",
        "    compare_actual_and_predicted(i)"
      ],
      "metadata": {
        "execution": {
          "iopub.status.busy": "2023-04-07T15:24:59.565883Z",
          "iopub.execute_input": "2023-04-07T15:24:59.567152Z",
          "iopub.status.idle": "2023-04-07T15:25:02.389236Z",
          "shell.execute_reply.started": "2023-04-07T15:24:59.567086Z",
          "shell.execute_reply": "2023-04-07T15:25:02.388189Z"
        },
        "trusted": true,
        "id": "i2-Ds3bxIr0C"
      },
      "execution_count": null,
      "outputs": []
    }
  ]
}